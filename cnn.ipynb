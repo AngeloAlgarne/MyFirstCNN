{
 "cells": [
  {
   "cell_type": "markdown",
   "id": "80bca896",
   "metadata": {},
   "source": [
    "#### Video basis: https://www.youtube.com/watch?v=qFJeN9V1ZsI\n",
    "#### Blog basis: https://analyticsindiamag.com/hands-on-guide-to-implementing-alexnet-with-keras-for-multi-class-image-classification/"
   ]
  },
  {
   "cell_type": "code",
   "execution_count": 1,
   "id": "1933b42a",
   "metadata": {},
   "outputs": [],
   "source": [
    "import itertools\n",
    "import numpy as np\n",
    "import tensorflow as tf\n",
    "import tensorflow.keras\n",
    "from tensorflow.keras.models import Sequential\n",
    "from tensorflow.keras.layers import Dense, Activation, Dropout, Flatten, Conv2D, MaxPooling2D, BatchNormalization\n",
    "from tensorflow.keras.optimizers import Adam\n",
    "from tensorflow.keras.metrics import categorical_crossentropy\n",
    "from tensorflow.keras.preprocessing.image import ImageDataGenerator\n",
    "from tensorflow.keras.regularizers import l2\n",
    "from sklearn.metrics import confusion_matrix\n",
    "import matplotlib.pyplot as plt\n",
    "%matplotlib inline"
   ]
  },
  {
   "cell_type": "code",
   "execution_count": 2,
   "id": "8158c74a",
   "metadata": {},
   "outputs": [
    {
     "name": "stdout",
     "output_type": "stream",
     "text": [
      "[PhysicalDevice(name='/physical_device:GPU:0', device_type='GPU')]\n"
     ]
    }
   ],
   "source": [
    "phy_devices = tf.config.experimental.list_physical_devices('GPU')\n",
    "print(phy_devices)\n",
    "if phy_devices:\n",
    "    tf.config.experimental.set_memory_growth(phy_devices[0], True)"
   ]
  },
  {
   "cell_type": "markdown",
   "id": "2afc434f",
   "metadata": {},
   "source": [
    "#### Dataset used: https://www.kaggle.com/code/profsoft/catsvsdogsclassificationwithcnn-attention"
   ]
  },
  {
   "cell_type": "code",
   "execution_count": 3,
   "id": "28267243",
   "metadata": {},
   "outputs": [],
   "source": [
    "dataset_path = 'PetImages_2000-500-800'\n",
    "\n",
    "train_path = f'data/{dataset_path}/training'\n",
    "valid_path = f'data/{dataset_path}/validation'\n",
    "test_path = f'data/{dataset_path}/testing'\n",
    "\n",
    "per_batch_size = 30\n",
    "num_epochs = 10\n",
    "learn_rate = .001\n",
    "\n",
    "class_names = ['cat', 'dog']\n",
    "num_classes = len(class_names)"
   ]
  },
  {
   "cell_type": "code",
   "execution_count": 4,
   "id": "399f533b",
   "metadata": {},
   "outputs": [
    {
     "name": "stdout",
     "output_type": "stream",
     "text": [
      "Found 4000 images belonging to 2 classes.\n",
      "Found 1000 images belonging to 2 classes.\n",
      "Found 1600 images belonging to 2 classes.\n"
     ]
    }
   ],
   "source": [
    "# preprocessing_function=tf.keras.applications.vgg16.preprocess_input\n",
    "train_batch = ImageDataGenerator(preprocessing_function=tf.keras.applications.vgg16.preprocess_input) \\\n",
    "    .flow_from_directory(directory=train_path, target_size=(224,224), classes=class_names, batch_size=per_batch_size)\n",
    "valid_batch = ImageDataGenerator(preprocessing_function=tf.keras.applications.vgg16.preprocess_input) \\\n",
    "    .flow_from_directory(directory=valid_path, target_size=(224,224), classes=class_names, batch_size=per_batch_size)\n",
    "test_batch = ImageDataGenerator(preprocessing_function=tf.keras.applications.vgg16.preprocess_input) \\\n",
    "    .flow_from_directory(directory=test_path, target_size=(224,224), classes=class_names, batch_size=per_batch_size, shuffle='False')"
   ]
  },
  {
   "cell_type": "code",
   "execution_count": null,
   "id": "f3ecbfe0",
   "metadata": {},
   "outputs": [],
   "source": [
    "assert train_batch.num_classes == valid_batch.num_classes == test_batch.num_classes == num_classes"
   ]
  },
  {
   "cell_type": "code",
   "execution_count": null,
   "id": "71099387",
   "metadata": {},
   "outputs": [],
   "source": [
    "imgs, labels = next(train_batch)"
   ]
  },
  {
   "cell_type": "code",
   "execution_count": null,
   "id": "500817c1",
   "metadata": {},
   "outputs": [],
   "source": [
    "def plotImages(images_arr):\n",
    "    fig, axes = plt.subplots(1,10,figsize=(20,20))\n",
    "    axes = axes.flatten()\n",
    "    for img, ax in zip(images_arr, axes):\n",
    "        ax.imshow(img/255)\n",
    "        ax.axis('off')\n",
    "    plt.tight_layout()\n",
    "    plt.show()"
   ]
  },
  {
   "cell_type": "code",
   "execution_count": null,
   "id": "df7f5530",
   "metadata": {},
   "outputs": [],
   "source": [
    "plotImages(imgs)"
   ]
  },
  {
   "cell_type": "code",
   "execution_count": 5,
   "id": "9bea13ec",
   "metadata": {},
   "outputs": [],
   "source": [
    "def create_AlexNet_model():\n",
    "    model = Sequential()\n",
    "    input_shape = (224, 224, 3)\n",
    "    kernel_regularizer = 0.002\n",
    "\n",
    "    #First block\n",
    "    model.add(Conv2D(96, (11, 11), strides=(4,4),\n",
    "            input_shape=input_shape, padding=\"same\",\n",
    "             kernel_regularizer=l2(kernel_regularizer)))\n",
    "    model.add(Activation(\"relu\"))\n",
    "    model.add(MaxPooling2D(pool_size=3, strides=2, padding=\"same\"))\n",
    "    model.add(BatchNormalization())\n",
    "\n",
    "    #Second block\n",
    "    model.add(Conv2D(256, (5, 5), padding=\"same\",\n",
    "                     kernel_regularizer=l2(kernel_regularizer)))\n",
    "    model.add(Activation(\"relu\"))\n",
    "    model.add(MaxPooling2D(pool_size=(3, 3), strides=(2, 2)))\n",
    "    model.add(BatchNormalization())\n",
    "\n",
    "    #Third block\n",
    "    model.add(Conv2D(384, (3, 3), padding=\"same\",\n",
    "              kernel_regularizer=l2(kernel_regularizer)))\n",
    "    model.add(Activation(\"relu\"))\n",
    "    model.add(BatchNormalization())\n",
    "\n",
    "    #Fourth block\n",
    "    model.add(Conv2D(384, (3, 3), padding=\"same\",\n",
    "                     kernel_regularizer=l2(kernel_regularizer)))\n",
    "    model.add(Activation(\"relu\"))\n",
    "    model.add(BatchNormalization())\n",
    "\n",
    "    #Fifth block\n",
    "    model.add(Conv2D(filters=256, kernel_size=(3,3), strides=(1, 1),\n",
    "                     padding=\"same\", kernel_regularizer=l2(kernel_regularizer)))\n",
    "    model.add(Activation(\"relu\"))\n",
    "    model.add(MaxPooling2D(pool_size=(3, 3), strides=(2,2)))\n",
    "    model.add(BatchNormalization())\n",
    "\n",
    "    #Fully connected blocks\n",
    "    model.add(Flatten())\n",
    "    \n",
    "    #First FC block\n",
    "    model.add(Dense(4096, kernel_regularizer=l2(kernel_regularizer)))\n",
    "    model.add(Activation('relu'))\n",
    "    #Add Dropout to prevent overfitting\n",
    "    model.add(Dropout(0.4))\n",
    "    model.add(BatchNormalization())\n",
    "\n",
    "    #Second FC block\n",
    "    model.add(Dense(4096, kernel_regularizer=l2(kernel_regularizer)))\n",
    "    model.add(Activation('relu'))\n",
    "    # Add Dropout\n",
    "    model.add(Dropout(0.4))\n",
    "    model.add(BatchNormalization())\n",
    "\n",
    "    # Output Layer\n",
    "    model.add(Dense(2, kernel_regularizer=l2(kernel_regularizer)))\n",
    "    model.add(Activation('softmax'))\n",
    "\n",
    "    # Instantiate a optimizer\n",
    "    optimizer = Adam(learning_rate=learn_rate)\n",
    "\n",
    "    # Instantiate a logistic loss function that expects integer targets.\n",
    "    loss = categorical_crossentropy\n",
    "    \n",
    "    # Instantiate an accuracy metric.\n",
    "    accuracy = 'accuracy'\n",
    "\n",
    "    model.compile(optimizer=optimizer, loss=loss, metrics=[accuracy])\n",
    "\n",
    "    return model\n",
    "\n",
    "\n",
    "def create_VGG16_model():\n",
    "    # Transfer learning is applied here\n",
    "    model = Sequential()\n",
    "    \n",
    "    vgg16_model = tf.keras.applications.vgg16.VGG16()\n",
    "    for layer in vgg16_model.layers[:-1]:\n",
    "        model.add(layer)\n",
    "    \n",
    "    for layer in model.layers:\n",
    "        layer.trainable = False\n",
    "    \n",
    "    model.add(Dense(2))\n",
    "    model.add(Activation('softmax'))\n",
    "    \n",
    "    # Instantiate a optimizer\n",
    "    optimizer = Adam(learning_rate=learn_rate)\n",
    "\n",
    "    # Instantiate a logistic loss function that expects integer targets.\n",
    "    loss = categorical_crossentropy\n",
    "    \n",
    "    # Instantiate an accuracy metric.\n",
    "    accuracy = 'accuracy'\n",
    "\n",
    "    model.compile(optimizer=optimizer, loss=loss, metrics=[accuracy])\n",
    "\n",
    "    return model\n",
    "\n",
    "\n",
    "def create_YaNet_model():\n",
    "    # Model I copy pasted from my friend\n",
    "    model = Sequential()\n",
    "\n",
    "    # 1st layer\n",
    "    model.add(Conv2D(32,(3,3), activation = 'relu', input_shape = (224,224,3)))\n",
    "    model.add(MaxPooling2D((2,2)))\n",
    "    \n",
    "    # 2nd layer\n",
    "    model.add(Conv2D(32,(3,3), activation = 'relu'))\n",
    "    model.add(MaxPooling2D((2,2)))\n",
    "\n",
    "    model.add(Flatten()) # 3x3 to 9x1\n",
    "    model.add(Dense(64, activation = 'relu'))\n",
    "    model.add(Dense(2, activation = 'sigmoid'))\n",
    "    \n",
    "    # Instantiate a optimizer\n",
    "    optimizer = Adam(learning_rate=learn_rate)\n",
    "\n",
    "    # Instantiate a logistic loss function that expects integer targets.\n",
    "    loss = categorical_crossentropy\n",
    "    # loss = 'binary_crossentropy' was previous used\n",
    "    \n",
    "    # Instantiate an accuracy metric.\n",
    "    accuracy = 'accuracy'\n",
    "    \n",
    "    model.compile(optimizer=optimizer, loss=loss, metrics=[accuracy])\n",
    "    \n",
    "    return model"
   ]
  },
  {
   "cell_type": "code",
   "execution_count": null,
   "id": "910009ff",
   "metadata": {},
   "outputs": [],
   "source": [
    "# AlexNet = create_AlexNet_model()"
   ]
  },
  {
   "cell_type": "code",
   "execution_count": 6,
   "id": "c0e5e599",
   "metadata": {},
   "outputs": [],
   "source": [
    "VGG16 = create_VGG16_model()"
   ]
  },
  {
   "cell_type": "code",
   "execution_count": null,
   "id": "6763ad41",
   "metadata": {},
   "outputs": [],
   "source": [
    "# YaNet = create_YaNet_model()"
   ]
  },
  {
   "cell_type": "code",
   "execution_count": null,
   "id": "b5d030a0",
   "metadata": {
    "scrolled": true
   },
   "outputs": [],
   "source": [
    "# AlexNet.fit(x=train_batch, validation_data=valid_batch, epochs=num_epochs, verbose=2)"
   ]
  },
  {
   "cell_type": "code",
   "execution_count": 7,
   "id": "e14143ea",
   "metadata": {},
   "outputs": [
    {
     "name": "stdout",
     "output_type": "stream",
     "text": [
      "Epoch 1/10\n",
      "134/134 - 56s - loss: 0.1505 - accuracy: 0.9452 - val_loss: 0.0548 - val_accuracy: 0.9840\n",
      "Epoch 2/10\n",
      "134/134 - 40s - loss: 0.0670 - accuracy: 0.9745 - val_loss: 0.0540 - val_accuracy: 0.9810\n",
      "Epoch 3/10\n",
      "134/134 - 40s - loss: 0.0386 - accuracy: 0.9850 - val_loss: 0.0488 - val_accuracy: 0.9830\n",
      "Epoch 4/10\n",
      "134/134 - 39s - loss: 0.0250 - accuracy: 0.9902 - val_loss: 0.0546 - val_accuracy: 0.9840\n",
      "Epoch 5/10\n",
      "134/134 - 39s - loss: 0.0156 - accuracy: 0.9952 - val_loss: 0.0567 - val_accuracy: 0.9840\n",
      "Epoch 6/10\n",
      "134/134 - 39s - loss: 0.0083 - accuracy: 0.9992 - val_loss: 0.0549 - val_accuracy: 0.9860\n",
      "Epoch 7/10\n",
      "134/134 - 40s - loss: 0.0057 - accuracy: 1.0000 - val_loss: 0.0541 - val_accuracy: 0.9870\n",
      "Epoch 8/10\n",
      "134/134 - 40s - loss: 0.0041 - accuracy: 1.0000 - val_loss: 0.0581 - val_accuracy: 0.9840\n",
      "Epoch 9/10\n",
      "134/134 - 40s - loss: 0.0030 - accuracy: 1.0000 - val_loss: 0.0572 - val_accuracy: 0.9860\n",
      "Epoch 10/10\n",
      "134/134 - 40s - loss: 0.0025 - accuracy: 1.0000 - val_loss: 0.0597 - val_accuracy: 0.9840\n"
     ]
    },
    {
     "data": {
      "text/plain": [
       "<tensorflow.python.keras.callbacks.History at 0x1963e520610>"
      ]
     },
     "execution_count": 7,
     "metadata": {},
     "output_type": "execute_result"
    }
   ],
   "source": [
    "VGG16.fit(x=train_batch, validation_data=valid_batch, epochs=num_epochs, verbose=2)"
   ]
  },
  {
   "cell_type": "code",
   "execution_count": null,
   "id": "c593f455",
   "metadata": {},
   "outputs": [],
   "source": [
    "# YaNet.fit(x=train_batch, validation_data=valid_batch, epochs=num_epochs, verbose=2)"
   ]
  },
  {
   "cell_type": "code",
   "execution_count": null,
   "id": "be1ac16f",
   "metadata": {},
   "outputs": [],
   "source": [
    "# AlexNet.evaluate(test_batch)"
   ]
  },
  {
   "cell_type": "code",
   "execution_count": 14,
   "id": "678580c3",
   "metadata": {},
   "outputs": [
    {
     "name": "stdout",
     "output_type": "stream",
     "text": [
      "54/54 [==============================] - 12s 227ms/step - loss: 0.0807 - accuracy: 0.9837\n"
     ]
    },
    {
     "data": {
      "text/plain": [
       "[0.08066705614328384, 0.9837499856948853]"
      ]
     },
     "execution_count": 14,
     "metadata": {},
     "output_type": "execute_result"
    }
   ],
   "source": [
    "VGG16.evaluate(test_batch)"
   ]
  },
  {
   "cell_type": "code",
   "execution_count": 10,
   "id": "d3f54b4c",
   "metadata": {},
   "outputs": [],
   "source": [
    "def plot_model(model):\n",
    "    #Plotting the training and validation loss\n",
    "    f,ax=plt.subplots(2,1) #Creates 2 subplots under 1 column\n",
    "\n",
    "    #Assigning the first subplot to graph training loss and validation loss\n",
    "    ax[0].plot(model.history.history['loss'],color='b',label='Training Loss')\n",
    "    ax[0].plot(model.history.history['val_loss'],color='r',label='Validation Loss')\n",
    "\n",
    "    #Plotting the training accuracy and validation accuracy\n",
    "    ax[1].plot(model.history.history['accuracy'],color='b',label='Training  Accuracy')\n",
    "    ax[1].plot(model.history.history['val_accuracy'],color='r',label='Validation Accuracy')\n",
    "\n",
    "    plt.legend()\n",
    "    \n",
    "def predict_and_cm(prediction):\n",
    "    #Plotting the confusion matrix\n",
    "    conf_matrix = confusion_matrix(test_batch.classes,np.argmax(prediction, axis=-1))\n",
    "    fig, ax = plt.subplots(figsize=(7.5, 7.5))\n",
    "    ax.matshow(conf_matrix, cmap=plt.cm.Blues, alpha=0.3)\n",
    "    for i in range(conf_matrix.shape[0]):\n",
    "        for j in range(conf_matrix.shape[1]):\n",
    "            ax.text(x=j, y=i,s=conf_matrix[i, j], va='center', ha='center', size='xx-large')\n",
    "\n",
    "    plt.xlabel('Predictions', fontsize=18)\n",
    "    plt.ylabel('Actuals', fontsize=18)\n",
    "    plt.title('Confusion Matrix', fontsize=18)\n",
    "    plt.show()"
   ]
  },
  {
   "cell_type": "code",
   "execution_count": 11,
   "id": "33cc3cef",
   "metadata": {},
   "outputs": [],
   "source": [
    "# plot_model(AlexNet)"
   ]
  },
  {
   "cell_type": "code",
   "execution_count": 12,
   "id": "d800b397",
   "metadata": {},
   "outputs": [
    {
     "ename": "KeyError",
     "evalue": "'loss'",
     "output_type": "error",
     "traceback": [
      "\u001b[1;31m---------------------------------------------------------------------------\u001b[0m",
      "\u001b[1;31mKeyError\u001b[0m                                  Traceback (most recent call last)",
      "Input \u001b[1;32mIn [12]\u001b[0m, in \u001b[0;36m<cell line: 1>\u001b[1;34m()\u001b[0m\n\u001b[1;32m----> 1\u001b[0m \u001b[43mplot_model\u001b[49m\u001b[43m(\u001b[49m\u001b[43mVGG16\u001b[49m\u001b[43m)\u001b[49m\n",
      "Input \u001b[1;32mIn [10]\u001b[0m, in \u001b[0;36mplot_model\u001b[1;34m(model)\u001b[0m\n\u001b[0;32m      3\u001b[0m f,ax\u001b[38;5;241m=\u001b[39mplt\u001b[38;5;241m.\u001b[39msubplots(\u001b[38;5;241m2\u001b[39m,\u001b[38;5;241m1\u001b[39m) \u001b[38;5;66;03m#Creates 2 subplots under 1 column\u001b[39;00m\n\u001b[0;32m      5\u001b[0m \u001b[38;5;66;03m#Assigning the first subplot to graph training loss and validation loss\u001b[39;00m\n\u001b[1;32m----> 6\u001b[0m ax[\u001b[38;5;241m0\u001b[39m]\u001b[38;5;241m.\u001b[39mplot(\u001b[43mmodel\u001b[49m\u001b[38;5;241;43m.\u001b[39;49m\u001b[43mhistory\u001b[49m\u001b[38;5;241;43m.\u001b[39;49m\u001b[43mhistory\u001b[49m\u001b[43m[\u001b[49m\u001b[38;5;124;43m'\u001b[39;49m\u001b[38;5;124;43mloss\u001b[39;49m\u001b[38;5;124;43m'\u001b[39;49m\u001b[43m]\u001b[49m,color\u001b[38;5;241m=\u001b[39m\u001b[38;5;124m'\u001b[39m\u001b[38;5;124mb\u001b[39m\u001b[38;5;124m'\u001b[39m,label\u001b[38;5;241m=\u001b[39m\u001b[38;5;124m'\u001b[39m\u001b[38;5;124mTraining Loss\u001b[39m\u001b[38;5;124m'\u001b[39m)\n\u001b[0;32m      7\u001b[0m ax[\u001b[38;5;241m0\u001b[39m]\u001b[38;5;241m.\u001b[39mplot(model\u001b[38;5;241m.\u001b[39mhistory\u001b[38;5;241m.\u001b[39mhistory[\u001b[38;5;124m'\u001b[39m\u001b[38;5;124mval_loss\u001b[39m\u001b[38;5;124m'\u001b[39m],color\u001b[38;5;241m=\u001b[39m\u001b[38;5;124m'\u001b[39m\u001b[38;5;124mr\u001b[39m\u001b[38;5;124m'\u001b[39m,label\u001b[38;5;241m=\u001b[39m\u001b[38;5;124m'\u001b[39m\u001b[38;5;124mValidation Loss\u001b[39m\u001b[38;5;124m'\u001b[39m)\n\u001b[0;32m      9\u001b[0m \u001b[38;5;66;03m#Plotting the training accuracy and validation accuracy\u001b[39;00m\n",
      "\u001b[1;31mKeyError\u001b[0m: 'loss'"
     ]
    },
    {
     "data": {
      "image/png": "[encoded data removed]",
      "text/plain": [
       "<Figure size 432x288 with 2 Axes>"
      ]
     },
     "metadata": {
      "needs_background": "light"
     },
     "output_type": "display_data"
    }
   ],
   "source": [
    "plot_model(VGG16)"
   ]
  },
  {
   "cell_type": "code",
   "execution_count": null,
   "id": "671d3b02",
   "metadata": {},
   "outputs": [],
   "source": [
    "# plot_model(YaNet)"
   ]
  },
  {
   "cell_type": "code",
   "execution_count": null,
   "id": "d0c54ea3",
   "metadata": {},
   "outputs": [],
   "source": [
    "# predict_and_cm(AlexNet.predict(x=test_batch, verbose=0))"
   ]
  },
  {
   "cell_type": "code",
   "execution_count": 13,
   "id": "f06db61e",
   "metadata": {},
   "outputs": [
    {
     "data": {
      "image/png": "[encoded data removed]",
      "text/plain": [
       "<Figure size 540x540 with 1 Axes>"
      ]
     },
     "metadata": {
      "needs_background": "light"
     },
     "output_type": "display_data"
    }
   ],
   "source": [
    "predict_and_cm(VGG16.predict(x=test_batch, verbose=0))"
   ]
  },
  {
   "cell_type": "code",
   "execution_count": null,
   "id": "9481eaf4",
   "metadata": {},
   "outputs": [],
   "source": [
    "# predict_and_cm(YaNet.predict(x=test_batch, verbose=0))"
   ]
  }
 ],
 "metadata": {
  "kernelspec": {
   "display_name": "Python 3 (ipykernel)",
   "language": "python",
   "name": "python3"
  },
  "language_info": {
   "codemirror_mode": {
    "name": "ipython",
    "version": 3
   },
   "file_extension": ".py",
   "mimetype": "text/x-python",
   "name": "python",
   "nbconvert_exporter": "python",
   "pygments_lexer": "ipython3",
   "version": "3.9.12"
  }
 },
 "nbformat": 4,
 "nbformat_minor": 5
}
